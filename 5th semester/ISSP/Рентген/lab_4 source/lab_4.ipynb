{
 "metadata": {
  "language_info": {
   "codemirror_mode": {
    "name": "ipython",
    "version": 3
   },
   "file_extension": ".py",
   "mimetype": "text/x-python",
   "name": "python",
   "nbconvert_exporter": "python",
   "pygments_lexer": "ipython3",
   "version": "3.8.5-final"
  },
  "orig_nbformat": 2,
  "kernelspec": {
   "name": "python3",
   "display_name": "Python 3"
  }
 },
 "nbformat": 4,
 "nbformat_minor": 2,
 "cells": [
  {
   "cell_type": "code",
   "execution_count": 30,
   "metadata": {},
   "outputs": [],
   "source": [
    "import numpy as np\n",
    "import pandas as pd\n",
    "\n",
    "LAMBDA_A = 1.54178\n",
    "LAMBDA_B = 1.39217\n",
    "A = 5.4307"
   ]
  },
  {
   "cell_type": "code",
   "execution_count": null,
   "metadata": {},
   "outputs": [],
   "source": []
  },
  {
   "cell_type": "code",
   "execution_count": null,
   "metadata": {},
   "outputs": [],
   "source": []
  },
  {
   "cell_type": "code",
   "execution_count": 31,
   "metadata": {},
   "outputs": [
    {
     "output_type": "execute_result",
     "data": {
      "text/plain": [
       "   N       L\n",
       "0  1   19.56\n",
       "1  2   21.84\n",
       "2  3   51.22\n",
       "3  4   57.57\n",
       "4  5   69.93\n",
       "5  6   80.09\n",
       "6  7   99.31\n",
       "7  8  119.20"
      ],
      "text/html": "<div>\n<style scoped>\n    .dataframe tbody tr th:only-of-type {\n        vertical-align: middle;\n    }\n\n    .dataframe tbody tr th {\n        vertical-align: top;\n    }\n\n    .dataframe thead th {\n        text-align: right;\n    }\n</style>\n<table border=\"1\" class=\"dataframe\">\n  <thead>\n    <tr style=\"text-align: right;\">\n      <th></th>\n      <th>N</th>\n      <th>L</th>\n    </tr>\n  </thead>\n  <tbody>\n    <tr>\n      <th>0</th>\n      <td>1</td>\n      <td>19.56</td>\n    </tr>\n    <tr>\n      <th>1</th>\n      <td>2</td>\n      <td>21.84</td>\n    </tr>\n    <tr>\n      <th>2</th>\n      <td>3</td>\n      <td>51.22</td>\n    </tr>\n    <tr>\n      <th>3</th>\n      <td>4</td>\n      <td>57.57</td>\n    </tr>\n    <tr>\n      <th>4</th>\n      <td>5</td>\n      <td>69.93</td>\n    </tr>\n    <tr>\n      <th>5</th>\n      <td>6</td>\n      <td>80.09</td>\n    </tr>\n    <tr>\n      <th>6</th>\n      <td>7</td>\n      <td>99.31</td>\n    </tr>\n    <tr>\n      <th>7</th>\n      <td>8</td>\n      <td>119.20</td>\n    </tr>\n  </tbody>\n</table>\n</div>"
     },
     "metadata": {},
     "execution_count": 31
    }
   ],
   "source": [
    "data = pd.read_csv('lab_4.csv', delimiter=';')\n",
    "data"
   ]
  },
  {
   "cell_type": "code",
   "execution_count": 32,
   "metadata": {},
   "outputs": [
    {
     "output_type": "execute_result",
     "data": {
      "text/plain": [
       "   N       L      theta\n",
       "0  1   19.56  13.040000\n",
       "1  2   21.84  14.560000\n",
       "2  3   51.22  34.146667\n",
       "3  4   57.57  38.380000\n",
       "4  5   69.93  46.620000\n",
       "5  6   80.09  53.393333\n",
       "6  7   99.31  66.206667\n",
       "7  8  119.20  79.466667"
      ],
      "text/html": "<div>\n<style scoped>\n    .dataframe tbody tr th:only-of-type {\n        vertical-align: middle;\n    }\n\n    .dataframe tbody tr th {\n        vertical-align: top;\n    }\n\n    .dataframe thead th {\n        text-align: right;\n    }\n</style>\n<table border=\"1\" class=\"dataframe\">\n  <thead>\n    <tr style=\"text-align: right;\">\n      <th></th>\n      <th>N</th>\n      <th>L</th>\n      <th>theta</th>\n    </tr>\n  </thead>\n  <tbody>\n    <tr>\n      <th>0</th>\n      <td>1</td>\n      <td>19.56</td>\n      <td>13.040000</td>\n    </tr>\n    <tr>\n      <th>1</th>\n      <td>2</td>\n      <td>21.84</td>\n      <td>14.560000</td>\n    </tr>\n    <tr>\n      <th>2</th>\n      <td>3</td>\n      <td>51.22</td>\n      <td>34.146667</td>\n    </tr>\n    <tr>\n      <th>3</th>\n      <td>4</td>\n      <td>57.57</td>\n      <td>38.380000</td>\n    </tr>\n    <tr>\n      <th>4</th>\n      <td>5</td>\n      <td>69.93</td>\n      <td>46.620000</td>\n    </tr>\n    <tr>\n      <th>5</th>\n      <td>6</td>\n      <td>80.09</td>\n      <td>53.393333</td>\n    </tr>\n    <tr>\n      <th>6</th>\n      <td>7</td>\n      <td>99.31</td>\n      <td>66.206667</td>\n    </tr>\n    <tr>\n      <th>7</th>\n      <td>8</td>\n      <td>119.20</td>\n      <td>79.466667</td>\n    </tr>\n  </tbody>\n</table>\n</div>"
     },
     "metadata": {},
     "execution_count": 32
    }
   ],
   "source": [
    "data['theta'] = data['L'] / 1.5\n",
    "data"
   ]
  },
  {
   "cell_type": "code",
   "execution_count": 33,
   "metadata": {},
   "outputs": [
    {
     "output_type": "execute_result",
     "data": {
      "text/plain": [
       "   N       L      theta  sintheta\n",
       "0  1   19.56  13.040000  0.225631\n",
       "1  2   21.84  14.560000  0.251394\n",
       "2  3   51.22  34.146667  0.561313\n",
       "3  4   57.57  38.380000  0.620874\n",
       "4  5   69.93  46.620000  0.726814\n",
       "5  6   80.09  53.393333  0.802748\n",
       "6  7   99.31  66.206667  0.915007\n",
       "7  8  119.20  79.466667  0.983149"
      ],
      "text/html": "<div>\n<style scoped>\n    .dataframe tbody tr th:only-of-type {\n        vertical-align: middle;\n    }\n\n    .dataframe tbody tr th {\n        vertical-align: top;\n    }\n\n    .dataframe thead th {\n        text-align: right;\n    }\n</style>\n<table border=\"1\" class=\"dataframe\">\n  <thead>\n    <tr style=\"text-align: right;\">\n      <th></th>\n      <th>N</th>\n      <th>L</th>\n      <th>theta</th>\n      <th>sintheta</th>\n    </tr>\n  </thead>\n  <tbody>\n    <tr>\n      <th>0</th>\n      <td>1</td>\n      <td>19.56</td>\n      <td>13.040000</td>\n      <td>0.225631</td>\n    </tr>\n    <tr>\n      <th>1</th>\n      <td>2</td>\n      <td>21.84</td>\n      <td>14.560000</td>\n      <td>0.251394</td>\n    </tr>\n    <tr>\n      <th>2</th>\n      <td>3</td>\n      <td>51.22</td>\n      <td>34.146667</td>\n      <td>0.561313</td>\n    </tr>\n    <tr>\n      <th>3</th>\n      <td>4</td>\n      <td>57.57</td>\n      <td>38.380000</td>\n      <td>0.620874</td>\n    </tr>\n    <tr>\n      <th>4</th>\n      <td>5</td>\n      <td>69.93</td>\n      <td>46.620000</td>\n      <td>0.726814</td>\n    </tr>\n    <tr>\n      <th>5</th>\n      <td>6</td>\n      <td>80.09</td>\n      <td>53.393333</td>\n      <td>0.802748</td>\n    </tr>\n    <tr>\n      <th>6</th>\n      <td>7</td>\n      <td>99.31</td>\n      <td>66.206667</td>\n      <td>0.915007</td>\n    </tr>\n    <tr>\n      <th>7</th>\n      <td>8</td>\n      <td>119.20</td>\n      <td>79.466667</td>\n      <td>0.983149</td>\n    </tr>\n  </tbody>\n</table>\n</div>"
     },
     "metadata": {},
     "execution_count": 33
    }
   ],
   "source": [
    "data['sintheta'] = np.sin(data['theta'] * np.pi / 180)\n",
    "data"
   ]
  },
  {
   "cell_type": "code",
   "execution_count": 34,
   "metadata": {},
   "outputs": [
    {
     "output_type": "execute_result",
     "data": {
      "text/plain": [
       "   N       L      theta  sintheta  sinthetab\n",
       "0  1   19.56  13.040000  0.225631   0.203730\n",
       "1  2   21.84  14.560000  0.251394   0.226992\n",
       "2  3   51.22  34.146667  0.561313   0.506829\n",
       "3  4   57.57  38.380000  0.620874   0.560609\n",
       "4  5   69.93  46.620000  0.726814   0.656266\n",
       "5  6   80.09  53.393333  0.802748   0.724829\n",
       "6  7   99.31  66.206667  0.915007   0.826191\n",
       "7  8  119.20  79.466667  0.983149   0.887719"
      ],
      "text/html": "<div>\n<style scoped>\n    .dataframe tbody tr th:only-of-type {\n        vertical-align: middle;\n    }\n\n    .dataframe tbody tr th {\n        vertical-align: top;\n    }\n\n    .dataframe thead th {\n        text-align: right;\n    }\n</style>\n<table border=\"1\" class=\"dataframe\">\n  <thead>\n    <tr style=\"text-align: right;\">\n      <th></th>\n      <th>N</th>\n      <th>L</th>\n      <th>theta</th>\n      <th>sintheta</th>\n      <th>sinthetab</th>\n    </tr>\n  </thead>\n  <tbody>\n    <tr>\n      <th>0</th>\n      <td>1</td>\n      <td>19.56</td>\n      <td>13.040000</td>\n      <td>0.225631</td>\n      <td>0.203730</td>\n    </tr>\n    <tr>\n      <th>1</th>\n      <td>2</td>\n      <td>21.84</td>\n      <td>14.560000</td>\n      <td>0.251394</td>\n      <td>0.226992</td>\n    </tr>\n    <tr>\n      <th>2</th>\n      <td>3</td>\n      <td>51.22</td>\n      <td>34.146667</td>\n      <td>0.561313</td>\n      <td>0.506829</td>\n    </tr>\n    <tr>\n      <th>3</th>\n      <td>4</td>\n      <td>57.57</td>\n      <td>38.380000</td>\n      <td>0.620874</td>\n      <td>0.560609</td>\n    </tr>\n    <tr>\n      <th>4</th>\n      <td>5</td>\n      <td>69.93</td>\n      <td>46.620000</td>\n      <td>0.726814</td>\n      <td>0.656266</td>\n    </tr>\n    <tr>\n      <th>5</th>\n      <td>6</td>\n      <td>80.09</td>\n      <td>53.393333</td>\n      <td>0.802748</td>\n      <td>0.724829</td>\n    </tr>\n    <tr>\n      <th>6</th>\n      <td>7</td>\n      <td>99.31</td>\n      <td>66.206667</td>\n      <td>0.915007</td>\n      <td>0.826191</td>\n    </tr>\n    <tr>\n      <th>7</th>\n      <td>8</td>\n      <td>119.20</td>\n      <td>79.466667</td>\n      <td>0.983149</td>\n      <td>0.887719</td>\n    </tr>\n  </tbody>\n</table>\n</div>"
     },
     "metadata": {},
     "execution_count": 34
    }
   ],
   "source": [
    "data['sinthetab'] = data['sintheta'] / 1.1075\n",
    "data"
   ]
  },
  {
   "cell_type": "code",
   "execution_count": 35,
   "metadata": {},
   "outputs": [
    {
     "output_type": "execute_result",
     "data": {
      "text/plain": [
       "   N       L      theta  sintheta  sinthetab type\n",
       "0  1   19.56  13.040000  0.225631   0.203730    b\n",
       "1  2   21.84  14.560000  0.251394   0.226992    a\n",
       "2  3   51.22  34.146667  0.561313   0.506829    b\n",
       "3  4   57.57  38.380000  0.620874   0.560609    a\n",
       "4  5   69.93  46.620000  0.726814   0.656266    b\n",
       "5  6   80.09  53.393333  0.802748   0.724829    a\n",
       "6  7   99.31  66.206667  0.915007   0.826191    a\n",
       "7  8  119.20  79.466667  0.983149   0.887719    a"
      ],
      "text/html": "<div>\n<style scoped>\n    .dataframe tbody tr th:only-of-type {\n        vertical-align: middle;\n    }\n\n    .dataframe tbody tr th {\n        vertical-align: top;\n    }\n\n    .dataframe thead th {\n        text-align: right;\n    }\n</style>\n<table border=\"1\" class=\"dataframe\">\n  <thead>\n    <tr style=\"text-align: right;\">\n      <th></th>\n      <th>N</th>\n      <th>L</th>\n      <th>theta</th>\n      <th>sintheta</th>\n      <th>sinthetab</th>\n      <th>type</th>\n    </tr>\n  </thead>\n  <tbody>\n    <tr>\n      <th>0</th>\n      <td>1</td>\n      <td>19.56</td>\n      <td>13.040000</td>\n      <td>0.225631</td>\n      <td>0.203730</td>\n      <td>b</td>\n    </tr>\n    <tr>\n      <th>1</th>\n      <td>2</td>\n      <td>21.84</td>\n      <td>14.560000</td>\n      <td>0.251394</td>\n      <td>0.226992</td>\n      <td>a</td>\n    </tr>\n    <tr>\n      <th>2</th>\n      <td>3</td>\n      <td>51.22</td>\n      <td>34.146667</td>\n      <td>0.561313</td>\n      <td>0.506829</td>\n      <td>b</td>\n    </tr>\n    <tr>\n      <th>3</th>\n      <td>4</td>\n      <td>57.57</td>\n      <td>38.380000</td>\n      <td>0.620874</td>\n      <td>0.560609</td>\n      <td>a</td>\n    </tr>\n    <tr>\n      <th>4</th>\n      <td>5</td>\n      <td>69.93</td>\n      <td>46.620000</td>\n      <td>0.726814</td>\n      <td>0.656266</td>\n      <td>b</td>\n    </tr>\n    <tr>\n      <th>5</th>\n      <td>6</td>\n      <td>80.09</td>\n      <td>53.393333</td>\n      <td>0.802748</td>\n      <td>0.724829</td>\n      <td>a</td>\n    </tr>\n    <tr>\n      <th>6</th>\n      <td>7</td>\n      <td>99.31</td>\n      <td>66.206667</td>\n      <td>0.915007</td>\n      <td>0.826191</td>\n      <td>a</td>\n    </tr>\n    <tr>\n      <th>7</th>\n      <td>8</td>\n      <td>119.20</td>\n      <td>79.466667</td>\n      <td>0.983149</td>\n      <td>0.887719</td>\n      <td>a</td>\n    </tr>\n  </tbody>\n</table>\n</div>"
     },
     "metadata": {},
     "execution_count": 35
    }
   ],
   "source": [
    "data['type'] = data['sintheta'] / 1.1075\n",
    "data['type'][0] = 'b'\n",
    "data['type'][1] = 'a'\n",
    "data['type'][2] = 'b'\n",
    "data['type'][3] = 'a'\n",
    "data['type'][4] = 'b'\n",
    "data['type'][5] = 'a'\n",
    "data['type'][6] = 'a'\n",
    "data['type'][7] = 'a'\n",
    "data"
   ]
  },
  {
   "cell_type": "code",
   "execution_count": 36,
   "metadata": {},
   "outputs": [
    {
     "output_type": "execute_result",
     "data": {
      "text/plain": [
       "   N       L      theta  sintheta  sinthetab type  sintheta2\n",
       "0  1   19.56  13.040000  0.225631   0.203730    b   0.050909\n",
       "1  2   21.84  14.560000  0.251394   0.226992    a   0.063199\n",
       "2  3   51.22  34.146667  0.561313   0.506829    b   0.315073\n",
       "3  4   57.57  38.380000  0.620874   0.560609    a   0.385485\n",
       "4  5   69.93  46.620000  0.726814   0.656266    b   0.528259\n",
       "5  6   80.09  53.393333  0.802748   0.724829    a   0.644405\n",
       "6  7   99.31  66.206667  0.915007   0.826191    a   0.837237\n",
       "7  8  119.20  79.466667  0.983149   0.887719    a   0.966581"
      ],
      "text/html": "<div>\n<style scoped>\n    .dataframe tbody tr th:only-of-type {\n        vertical-align: middle;\n    }\n\n    .dataframe tbody tr th {\n        vertical-align: top;\n    }\n\n    .dataframe thead th {\n        text-align: right;\n    }\n</style>\n<table border=\"1\" class=\"dataframe\">\n  <thead>\n    <tr style=\"text-align: right;\">\n      <th></th>\n      <th>N</th>\n      <th>L</th>\n      <th>theta</th>\n      <th>sintheta</th>\n      <th>sinthetab</th>\n      <th>type</th>\n      <th>sintheta2</th>\n    </tr>\n  </thead>\n  <tbody>\n    <tr>\n      <th>0</th>\n      <td>1</td>\n      <td>19.56</td>\n      <td>13.040000</td>\n      <td>0.225631</td>\n      <td>0.203730</td>\n      <td>b</td>\n      <td>0.050909</td>\n    </tr>\n    <tr>\n      <th>1</th>\n      <td>2</td>\n      <td>21.84</td>\n      <td>14.560000</td>\n      <td>0.251394</td>\n      <td>0.226992</td>\n      <td>a</td>\n      <td>0.063199</td>\n    </tr>\n    <tr>\n      <th>2</th>\n      <td>3</td>\n      <td>51.22</td>\n      <td>34.146667</td>\n      <td>0.561313</td>\n      <td>0.506829</td>\n      <td>b</td>\n      <td>0.315073</td>\n    </tr>\n    <tr>\n      <th>3</th>\n      <td>4</td>\n      <td>57.57</td>\n      <td>38.380000</td>\n      <td>0.620874</td>\n      <td>0.560609</td>\n      <td>a</td>\n      <td>0.385485</td>\n    </tr>\n    <tr>\n      <th>4</th>\n      <td>5</td>\n      <td>69.93</td>\n      <td>46.620000</td>\n      <td>0.726814</td>\n      <td>0.656266</td>\n      <td>b</td>\n      <td>0.528259</td>\n    </tr>\n    <tr>\n      <th>5</th>\n      <td>6</td>\n      <td>80.09</td>\n      <td>53.393333</td>\n      <td>0.802748</td>\n      <td>0.724829</td>\n      <td>a</td>\n      <td>0.644405</td>\n    </tr>\n    <tr>\n      <th>6</th>\n      <td>7</td>\n      <td>99.31</td>\n      <td>66.206667</td>\n      <td>0.915007</td>\n      <td>0.826191</td>\n      <td>a</td>\n      <td>0.837237</td>\n    </tr>\n    <tr>\n      <th>7</th>\n      <td>8</td>\n      <td>119.20</td>\n      <td>79.466667</td>\n      <td>0.983149</td>\n      <td>0.887719</td>\n      <td>a</td>\n      <td>0.966581</td>\n    </tr>\n  </tbody>\n</table>\n</div>"
     },
     "metadata": {},
     "execution_count": 36
    }
   ],
   "source": [
    "data['sintheta2'] = data['sintheta'] ** 2\n",
    "data"
   ]
  },
  {
   "cell_type": "code",
   "execution_count": 37,
   "metadata": {},
   "outputs": [
    {
     "output_type": "execute_result",
     "data": {
      "text/plain": [
       "   N       L      theta  sintheta  sinthetab type  sintheta2         d\n",
       "0  1   19.56  13.040000  0.225631   0.203730    b   0.050909   3.08506\n",
       "1  2   21.84  14.560000  0.251394   0.226992    a   0.063199   3.06646\n",
       "2  3   51.22  34.146667  0.561313   0.506829    b   0.315073    1.2401\n",
       "3  4   57.57  38.380000  0.620874   0.560609    a   0.385485   1.24162\n",
       "4  5   69.93  46.620000  0.726814   0.656266    b   0.528259   0.95772\n",
       "5  6   80.09  53.393333  0.802748   0.724829    a   0.644405  0.960314\n",
       "6  7   99.31  66.206667  0.915007   0.826191    a   0.837237  0.842497\n",
       "7  8  119.20  79.466667  0.983149   0.887719    a   0.966581  0.784103"
      ],
      "text/html": "<div>\n<style scoped>\n    .dataframe tbody tr th:only-of-type {\n        vertical-align: middle;\n    }\n\n    .dataframe tbody tr th {\n        vertical-align: top;\n    }\n\n    .dataframe thead th {\n        text-align: right;\n    }\n</style>\n<table border=\"1\" class=\"dataframe\">\n  <thead>\n    <tr style=\"text-align: right;\">\n      <th></th>\n      <th>N</th>\n      <th>L</th>\n      <th>theta</th>\n      <th>sintheta</th>\n      <th>sinthetab</th>\n      <th>type</th>\n      <th>sintheta2</th>\n      <th>d</th>\n    </tr>\n  </thead>\n  <tbody>\n    <tr>\n      <th>0</th>\n      <td>1</td>\n      <td>19.56</td>\n      <td>13.040000</td>\n      <td>0.225631</td>\n      <td>0.203730</td>\n      <td>b</td>\n      <td>0.050909</td>\n      <td>3.08506</td>\n    </tr>\n    <tr>\n      <th>1</th>\n      <td>2</td>\n      <td>21.84</td>\n      <td>14.560000</td>\n      <td>0.251394</td>\n      <td>0.226992</td>\n      <td>a</td>\n      <td>0.063199</td>\n      <td>3.06646</td>\n    </tr>\n    <tr>\n      <th>2</th>\n      <td>3</td>\n      <td>51.22</td>\n      <td>34.146667</td>\n      <td>0.561313</td>\n      <td>0.506829</td>\n      <td>b</td>\n      <td>0.315073</td>\n      <td>1.2401</td>\n    </tr>\n    <tr>\n      <th>3</th>\n      <td>4</td>\n      <td>57.57</td>\n      <td>38.380000</td>\n      <td>0.620874</td>\n      <td>0.560609</td>\n      <td>a</td>\n      <td>0.385485</td>\n      <td>1.24162</td>\n    </tr>\n    <tr>\n      <th>4</th>\n      <td>5</td>\n      <td>69.93</td>\n      <td>46.620000</td>\n      <td>0.726814</td>\n      <td>0.656266</td>\n      <td>b</td>\n      <td>0.528259</td>\n      <td>0.95772</td>\n    </tr>\n    <tr>\n      <th>5</th>\n      <td>6</td>\n      <td>80.09</td>\n      <td>53.393333</td>\n      <td>0.802748</td>\n      <td>0.724829</td>\n      <td>a</td>\n      <td>0.644405</td>\n      <td>0.960314</td>\n    </tr>\n    <tr>\n      <th>6</th>\n      <td>7</td>\n      <td>99.31</td>\n      <td>66.206667</td>\n      <td>0.915007</td>\n      <td>0.826191</td>\n      <td>a</td>\n      <td>0.837237</td>\n      <td>0.842497</td>\n    </tr>\n    <tr>\n      <th>7</th>\n      <td>8</td>\n      <td>119.20</td>\n      <td>79.466667</td>\n      <td>0.983149</td>\n      <td>0.887719</td>\n      <td>a</td>\n      <td>0.966581</td>\n      <td>0.784103</td>\n    </tr>\n  </tbody>\n</table>\n</div>"
     },
     "metadata": {},
     "execution_count": 37
    }
   ],
   "source": [
    "data['d'] = data['type']\n",
    "data.loc[data['type'] == 'a', 'd'] = LAMBDA_A / (2 * data.loc[data['type'] == 'a', 'sintheta'])\n",
    "data.loc[data['type'] == 'b', 'd'] = LAMBDA_B / (2 * data.loc[data['type'] == 'b', 'sintheta'])\n",
    "data"
   ]
  },
  {
   "cell_type": "code",
   "execution_count": 38,
   "metadata": {},
   "outputs": [
    {
     "output_type": "execute_result",
     "data": {
      "text/plain": [
       "   N       L      theta  sintheta  sinthetab type  sintheta2         d  \\\n",
       "0  1   19.56  13.040000  0.225631   0.203730    b   0.050909   3.08506   \n",
       "1  2   21.84  14.560000  0.251394   0.226992    a   0.063199   3.06646   \n",
       "2  3   51.22  34.146667  0.561313   0.506829    b   0.315073    1.2401   \n",
       "3  4   57.57  38.380000  0.620874   0.560609    a   0.385485   1.24162   \n",
       "4  5   69.93  46.620000  0.726814   0.656266    b   0.528259   0.95772   \n",
       "5  6   80.09  53.393333  0.802748   0.724829    a   0.644405  0.960314   \n",
       "6  7   99.31  66.206667  0.915007   0.826191    a   0.837237  0.842497   \n",
       "7  8  119.20  79.466667  0.983149   0.887719    a   0.966581  0.784103   \n",
       "\n",
       "      hkl2  \n",
       "0  3.09874  \n",
       "1  3.13643  \n",
       "2  19.1778  \n",
       "3  19.1308  \n",
       "4  32.1539  \n",
       "5  31.9805  \n",
       "6  41.5504  \n",
       "7  47.9695  "
      ],
      "text/html": "<div>\n<style scoped>\n    .dataframe tbody tr th:only-of-type {\n        vertical-align: middle;\n    }\n\n    .dataframe tbody tr th {\n        vertical-align: top;\n    }\n\n    .dataframe thead th {\n        text-align: right;\n    }\n</style>\n<table border=\"1\" class=\"dataframe\">\n  <thead>\n    <tr style=\"text-align: right;\">\n      <th></th>\n      <th>N</th>\n      <th>L</th>\n      <th>theta</th>\n      <th>sintheta</th>\n      <th>sinthetab</th>\n      <th>type</th>\n      <th>sintheta2</th>\n      <th>d</th>\n      <th>hkl2</th>\n    </tr>\n  </thead>\n  <tbody>\n    <tr>\n      <th>0</th>\n      <td>1</td>\n      <td>19.56</td>\n      <td>13.040000</td>\n      <td>0.225631</td>\n      <td>0.203730</td>\n      <td>b</td>\n      <td>0.050909</td>\n      <td>3.08506</td>\n      <td>3.09874</td>\n    </tr>\n    <tr>\n      <th>1</th>\n      <td>2</td>\n      <td>21.84</td>\n      <td>14.560000</td>\n      <td>0.251394</td>\n      <td>0.226992</td>\n      <td>a</td>\n      <td>0.063199</td>\n      <td>3.06646</td>\n      <td>3.13643</td>\n    </tr>\n    <tr>\n      <th>2</th>\n      <td>3</td>\n      <td>51.22</td>\n      <td>34.146667</td>\n      <td>0.561313</td>\n      <td>0.506829</td>\n      <td>b</td>\n      <td>0.315073</td>\n      <td>1.2401</td>\n      <td>19.1778</td>\n    </tr>\n    <tr>\n      <th>3</th>\n      <td>4</td>\n      <td>57.57</td>\n      <td>38.380000</td>\n      <td>0.620874</td>\n      <td>0.560609</td>\n      <td>a</td>\n      <td>0.385485</td>\n      <td>1.24162</td>\n      <td>19.1308</td>\n    </tr>\n    <tr>\n      <th>4</th>\n      <td>5</td>\n      <td>69.93</td>\n      <td>46.620000</td>\n      <td>0.726814</td>\n      <td>0.656266</td>\n      <td>b</td>\n      <td>0.528259</td>\n      <td>0.95772</td>\n      <td>32.1539</td>\n    </tr>\n    <tr>\n      <th>5</th>\n      <td>6</td>\n      <td>80.09</td>\n      <td>53.393333</td>\n      <td>0.802748</td>\n      <td>0.724829</td>\n      <td>a</td>\n      <td>0.644405</td>\n      <td>0.960314</td>\n      <td>31.9805</td>\n    </tr>\n    <tr>\n      <th>6</th>\n      <td>7</td>\n      <td>99.31</td>\n      <td>66.206667</td>\n      <td>0.915007</td>\n      <td>0.826191</td>\n      <td>a</td>\n      <td>0.837237</td>\n      <td>0.842497</td>\n      <td>41.5504</td>\n    </tr>\n    <tr>\n      <th>7</th>\n      <td>8</td>\n      <td>119.20</td>\n      <td>79.466667</td>\n      <td>0.983149</td>\n      <td>0.887719</td>\n      <td>a</td>\n      <td>0.966581</td>\n      <td>0.784103</td>\n      <td>47.9695</td>\n    </tr>\n  </tbody>\n</table>\n</div>"
     },
     "metadata": {},
     "execution_count": 38
    }
   ],
   "source": [
    "data['hkl2'] = (A / data['d']) ** 2\n",
    "data"
   ]
  },
  {
   "cell_type": "code",
   "execution_count": 39,
   "metadata": {},
   "outputs": [
    {
     "output_type": "execute_result",
     "data": {
      "text/plain": [
       "   N       L      theta  sintheta  sinthetab type  sintheta2         d  \\\n",
       "0  1   19.56  13.040000  0.225631   0.203730    b   0.050909   3.08506   \n",
       "1  2   21.84  14.560000  0.251394   0.226992    a   0.063199   3.06646   \n",
       "2  3   51.22  34.146667  0.561313   0.506829    b   0.315073    1.2401   \n",
       "3  4   57.57  38.380000  0.620874   0.560609    a   0.385485   1.24162   \n",
       "4  5   69.93  46.620000  0.726814   0.656266    b   0.528259   0.95772   \n",
       "5  6   80.09  53.393333  0.802748   0.724829    a   0.644405  0.960314   \n",
       "6  7   99.31  66.206667  0.915007   0.826191    a   0.837237  0.842497   \n",
       "7  8  119.20  79.466667  0.983149   0.887719    a   0.966581  0.784103   \n",
       "\n",
       "      hkl2    hkl  \n",
       "0  3.09874  111.0  \n",
       "1  3.13643  111.0  \n",
       "2  19.1778  331.0  \n",
       "3  19.1308  331.0  \n",
       "4  32.1539  440.0  \n",
       "5  31.9805  440.0  \n",
       "6  41.5504  541.0  \n",
       "7  47.9695  444.0  "
      ],
      "text/html": "<div>\n<style scoped>\n    .dataframe tbody tr th:only-of-type {\n        vertical-align: middle;\n    }\n\n    .dataframe tbody tr th {\n        vertical-align: top;\n    }\n\n    .dataframe thead th {\n        text-align: right;\n    }\n</style>\n<table border=\"1\" class=\"dataframe\">\n  <thead>\n    <tr style=\"text-align: right;\">\n      <th></th>\n      <th>N</th>\n      <th>L</th>\n      <th>theta</th>\n      <th>sintheta</th>\n      <th>sinthetab</th>\n      <th>type</th>\n      <th>sintheta2</th>\n      <th>d</th>\n      <th>hkl2</th>\n      <th>hkl</th>\n    </tr>\n  </thead>\n  <tbody>\n    <tr>\n      <th>0</th>\n      <td>1</td>\n      <td>19.56</td>\n      <td>13.040000</td>\n      <td>0.225631</td>\n      <td>0.203730</td>\n      <td>b</td>\n      <td>0.050909</td>\n      <td>3.08506</td>\n      <td>3.09874</td>\n      <td>111.0</td>\n    </tr>\n    <tr>\n      <th>1</th>\n      <td>2</td>\n      <td>21.84</td>\n      <td>14.560000</td>\n      <td>0.251394</td>\n      <td>0.226992</td>\n      <td>a</td>\n      <td>0.063199</td>\n      <td>3.06646</td>\n      <td>3.13643</td>\n      <td>111.0</td>\n    </tr>\n    <tr>\n      <th>2</th>\n      <td>3</td>\n      <td>51.22</td>\n      <td>34.146667</td>\n      <td>0.561313</td>\n      <td>0.506829</td>\n      <td>b</td>\n      <td>0.315073</td>\n      <td>1.2401</td>\n      <td>19.1778</td>\n      <td>331.0</td>\n    </tr>\n    <tr>\n      <th>3</th>\n      <td>4</td>\n      <td>57.57</td>\n      <td>38.380000</td>\n      <td>0.620874</td>\n      <td>0.560609</td>\n      <td>a</td>\n      <td>0.385485</td>\n      <td>1.24162</td>\n      <td>19.1308</td>\n      <td>331.0</td>\n    </tr>\n    <tr>\n      <th>4</th>\n      <td>5</td>\n      <td>69.93</td>\n      <td>46.620000</td>\n      <td>0.726814</td>\n      <td>0.656266</td>\n      <td>b</td>\n      <td>0.528259</td>\n      <td>0.95772</td>\n      <td>32.1539</td>\n      <td>440.0</td>\n    </tr>\n    <tr>\n      <th>5</th>\n      <td>6</td>\n      <td>80.09</td>\n      <td>53.393333</td>\n      <td>0.802748</td>\n      <td>0.724829</td>\n      <td>a</td>\n      <td>0.644405</td>\n      <td>0.960314</td>\n      <td>31.9805</td>\n      <td>440.0</td>\n    </tr>\n    <tr>\n      <th>6</th>\n      <td>7</td>\n      <td>99.31</td>\n      <td>66.206667</td>\n      <td>0.915007</td>\n      <td>0.826191</td>\n      <td>a</td>\n      <td>0.837237</td>\n      <td>0.842497</td>\n      <td>41.5504</td>\n      <td>541.0</td>\n    </tr>\n    <tr>\n      <th>7</th>\n      <td>8</td>\n      <td>119.20</td>\n      <td>79.466667</td>\n      <td>0.983149</td>\n      <td>0.887719</td>\n      <td>a</td>\n      <td>0.966581</td>\n      <td>0.784103</td>\n      <td>47.9695</td>\n      <td>444.0</td>\n    </tr>\n  </tbody>\n</table>\n</div>"
     },
     "metadata": {},
     "execution_count": 39
    }
   ],
   "source": [
    "data['hkl'] = data['sintheta'] / 1.1075\n",
    "data['hkl'][0] = '111'\n",
    "data['hkl'][1] = '111'\n",
    "data['hkl'][2] = '331'\n",
    "data['hkl'][3] = '331'\n",
    "data['hkl'][4] = '440'\n",
    "data['hkl'][5] = '440'\n",
    "data['hkl'][6] = '541'\n",
    "data['hkl'][7] = '444'\n",
    "data"
   ]
  },
  {
   "cell_type": "code",
   "execution_count": 40,
   "metadata": {},
   "outputs": [
    {
     "output_type": "execute_result",
     "data": {
      "text/plain": [
       "3.8316340846031713"
      ]
     },
     "metadata": {},
     "execution_count": 40
    }
   ],
   "source": [
    "LAMBDA_A * np.sqrt(1 + (86 / 37.8) ** 2)"
   ]
  },
  {
   "source": [
    "Направление по всей видимости \\[110\\]"
   ],
   "cell_type": "markdown",
   "metadata": {}
  },
  {
   "cell_type": "code",
   "execution_count": null,
   "metadata": {},
   "outputs": [],
   "source": []
  }
 ]
}