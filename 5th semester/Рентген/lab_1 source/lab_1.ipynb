{
 "metadata": {
  "language_info": {
   "codemirror_mode": {
    "name": "ipython",
    "version": 3
   },
   "file_extension": ".py",
   "mimetype": "text/x-python",
   "name": "python",
   "nbconvert_exporter": "python",
   "pygments_lexer": "ipython3",
   "version": "3.8.5-final"
  },
  "orig_nbformat": 2,
  "kernelspec": {
   "name": "python3",
   "display_name": "Python 3"
  }
 },
 "nbformat": 4,
 "nbformat_minor": 2,
 "cells": [
  {
   "cell_type": "code",
   "execution_count": 2,
   "metadata": {},
   "outputs": [],
   "source": [
    "import numpy as np\n",
    "import pandas as pd"
   ]
  },
  {
   "cell_type": "code",
   "execution_count": 3,
   "metadata": {},
   "outputs": [
    {
     "output_type": "execute_result",
     "data": {
      "text/plain": [
       "    I_rel      l\n",
       "0     6.0   39.0\n",
       "1    10.0   43.5\n",
       "2     2.0   45.0\n",
       "3     9.0   50.3\n",
       "4     1.0   65.6\n",
       "5     8.0   73.8\n",
       "6     1.0   79.0\n",
       "7     0.5   83.2\n",
       "8     8.0   89.5\n",
       "9     3.0   95.0\n",
       "10    0.5  113.7\n",
       "11    1.0  116.7\n",
       "12    0.5  118.5\n",
       "13    6.0  136.0\n",
       "14    5.0  136.7\n",
       "15    6.0  144.0\n",
       "16    5.0  145.0"
      ],
      "text/html": "<div>\n<style scoped>\n    .dataframe tbody tr th:only-of-type {\n        vertical-align: middle;\n    }\n\n    .dataframe tbody tr th {\n        vertical-align: top;\n    }\n\n    .dataframe thead th {\n        text-align: right;\n    }\n</style>\n<table border=\"1\" class=\"dataframe\">\n  <thead>\n    <tr style=\"text-align: right;\">\n      <th></th>\n      <th>I_rel</th>\n      <th>l</th>\n    </tr>\n  </thead>\n  <tbody>\n    <tr>\n      <th>0</th>\n      <td>6.0</td>\n      <td>39.0</td>\n    </tr>\n    <tr>\n      <th>1</th>\n      <td>10.0</td>\n      <td>43.5</td>\n    </tr>\n    <tr>\n      <th>2</th>\n      <td>2.0</td>\n      <td>45.0</td>\n    </tr>\n    <tr>\n      <th>3</th>\n      <td>9.0</td>\n      <td>50.3</td>\n    </tr>\n    <tr>\n      <th>4</th>\n      <td>1.0</td>\n      <td>65.6</td>\n    </tr>\n    <tr>\n      <th>5</th>\n      <td>8.0</td>\n      <td>73.8</td>\n    </tr>\n    <tr>\n      <th>6</th>\n      <td>1.0</td>\n      <td>79.0</td>\n    </tr>\n    <tr>\n      <th>7</th>\n      <td>0.5</td>\n      <td>83.2</td>\n    </tr>\n    <tr>\n      <th>8</th>\n      <td>8.0</td>\n      <td>89.5</td>\n    </tr>\n    <tr>\n      <th>9</th>\n      <td>3.0</td>\n      <td>95.0</td>\n    </tr>\n    <tr>\n      <th>10</th>\n      <td>0.5</td>\n      <td>113.7</td>\n    </tr>\n    <tr>\n      <th>11</th>\n      <td>1.0</td>\n      <td>116.7</td>\n    </tr>\n    <tr>\n      <th>12</th>\n      <td>0.5</td>\n      <td>118.5</td>\n    </tr>\n    <tr>\n      <th>13</th>\n      <td>6.0</td>\n      <td>136.0</td>\n    </tr>\n    <tr>\n      <th>14</th>\n      <td>5.0</td>\n      <td>136.7</td>\n    </tr>\n    <tr>\n      <th>15</th>\n      <td>6.0</td>\n      <td>144.0</td>\n    </tr>\n    <tr>\n      <th>16</th>\n      <td>5.0</td>\n      <td>145.0</td>\n    </tr>\n  </tbody>\n</table>\n</div>"
     },
     "metadata": {},
     "execution_count": 3
    }
   ],
   "source": [
    "data = pd.read_csv('lab1.csv', delimiter=';')\n",
    "data"
   ]
  },
  {
   "cell_type": "code",
   "execution_count": 5,
   "metadata": {},
   "outputs": [
    {
     "output_type": "execute_result",
     "data": {
      "text/plain": [
       "0     19.50\n",
       "1     21.75\n",
       "2     22.50\n",
       "3     25.15\n",
       "4     32.80\n",
       "5     36.90\n",
       "6     39.50\n",
       "7     41.60\n",
       "8     44.75\n",
       "9     47.50\n",
       "10    56.85\n",
       "11    58.35\n",
       "12    59.25\n",
       "13    68.00\n",
       "14    68.35\n",
       "15    72.00\n",
       "16    72.50\n",
       "Name: l, dtype: float64"
      ]
     },
     "metadata": {},
     "execution_count": 5
    }
   ],
   "source": [
    "data['l'] / 2"
   ]
  },
  {
   "cell_type": "code",
   "execution_count": null,
   "metadata": {},
   "outputs": [],
   "source": []
  }
 ]
}