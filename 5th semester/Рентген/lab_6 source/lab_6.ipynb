{
 "metadata": {
  "language_info": {
   "codemirror_mode": {
    "name": "ipython",
    "version": 3
   },
   "file_extension": ".py",
   "mimetype": "text/x-python",
   "name": "python",
   "nbconvert_exporter": "python",
   "pygments_lexer": "ipython3",
   "version": "3.8.5-final"
  },
  "orig_nbformat": 2,
  "kernelspec": {
   "name": "python3",
   "display_name": "Python 3",
   "language": "python"
  }
 },
 "nbformat": 4,
 "nbformat_minor": 2,
 "cells": [
  {
   "cell_type": "code",
   "execution_count": 1,
   "metadata": {},
   "outputs": [],
   "source": [
    "import numpy as np\n",
    "import pandas as pd"
   ]
  },
  {
   "source": [
    "# Part 1"
   ],
   "cell_type": "markdown",
   "metadata": {}
  },
  {
   "cell_type": "code",
   "execution_count": 3,
   "metadata": {},
   "outputs": [
    {
     "output_type": "execute_result",
     "data": {
      "text/plain": [
       "    N       R\n",
       "0   1  151.30\n",
       "1   2   88.81\n",
       "2   3  106.00\n",
       "3  12   96.15\n",
       "4  23   92.14"
      ],
      "text/html": "<div>\n<style scoped>\n    .dataframe tbody tr th:only-of-type {\n        vertical-align: middle;\n    }\n\n    .dataframe tbody tr th {\n        vertical-align: top;\n    }\n\n    .dataframe thead th {\n        text-align: right;\n    }\n</style>\n<table border=\"1\" class=\"dataframe\">\n  <thead>\n    <tr style=\"text-align: right;\">\n      <th></th>\n      <th>N</th>\n      <th>R</th>\n    </tr>\n  </thead>\n  <tbody>\n    <tr>\n      <th>0</th>\n      <td>1</td>\n      <td>151.30</td>\n    </tr>\n    <tr>\n      <th>1</th>\n      <td>2</td>\n      <td>88.81</td>\n    </tr>\n    <tr>\n      <th>2</th>\n      <td>3</td>\n      <td>106.00</td>\n    </tr>\n    <tr>\n      <th>3</th>\n      <td>12</td>\n      <td>96.15</td>\n    </tr>\n    <tr>\n      <th>4</th>\n      <td>23</td>\n      <td>92.14</td>\n    </tr>\n  </tbody>\n</table>\n</div>"
     },
     "metadata": {},
     "execution_count": 3
    }
   ],
   "source": [
    "data_1 = pd.read_csv('lab6-1.csv', delimiter=';')\n",
    "data_1"
   ]
  },
  {
   "cell_type": "code",
   "execution_count": 6,
   "metadata": {},
   "outputs": [
    {
     "output_type": "execute_result",
     "data": {
      "text/plain": [
       "    N       R      R_cm\n",
       "0   1  151.30  1.543878\n",
       "1   2   88.81  0.906224\n",
       "2   3  106.00  1.081633\n",
       "3  12   96.15  0.981122\n",
       "4  23   92.14  0.940204"
      ],
      "text/html": "<div>\n<style scoped>\n    .dataframe tbody tr th:only-of-type {\n        vertical-align: middle;\n    }\n\n    .dataframe tbody tr th {\n        vertical-align: top;\n    }\n\n    .dataframe thead th {\n        text-align: right;\n    }\n</style>\n<table border=\"1\" class=\"dataframe\">\n  <thead>\n    <tr style=\"text-align: right;\">\n      <th></th>\n      <th>N</th>\n      <th>R</th>\n      <th>R_cm</th>\n    </tr>\n  </thead>\n  <tbody>\n    <tr>\n      <th>0</th>\n      <td>1</td>\n      <td>151.30</td>\n      <td>1.543878</td>\n    </tr>\n    <tr>\n      <th>1</th>\n      <td>2</td>\n      <td>88.81</td>\n      <td>0.906224</td>\n    </tr>\n    <tr>\n      <th>2</th>\n      <td>3</td>\n      <td>106.00</td>\n      <td>1.081633</td>\n    </tr>\n    <tr>\n      <th>3</th>\n      <td>12</td>\n      <td>96.15</td>\n      <td>0.981122</td>\n    </tr>\n    <tr>\n      <th>4</th>\n      <td>23</td>\n      <td>92.14</td>\n      <td>0.940204</td>\n    </tr>\n  </tbody>\n</table>\n</div>"
     },
     "metadata": {},
     "execution_count": 6
    }
   ],
   "source": [
    "data_1['R_cm'] = data_1['R'] / 98\n",
    "data_1"
   ]
  },
  {
   "cell_type": "code",
   "execution_count": 8,
   "metadata": {},
   "outputs": [],
   "source": [
    "def get_gamma(a, b, c):\n",
    "    return np.arccos((a ** 2 + b ** 2 - c ** 2) / (2 * a * b)) * 180 / np.pi"
   ]
  },
  {
   "cell_type": "code",
   "execution_count": 14,
   "metadata": {},
   "outputs": [
    {
     "output_type": "execute_result",
     "data": {
      "text/plain": [
       "36.74549588305459"
      ]
     },
     "metadata": {},
     "execution_count": 14
    }
   ],
   "source": [
    "gamma_12 = get_gamma(data_1.iloc[0]['R_cm'], data_1.iloc[1]['R_cm'], data_1.iloc[3]['R_cm'])\n",
    "gamma_12"
   ]
  },
  {
   "cell_type": "code",
   "execution_count": 15,
   "metadata": {},
   "outputs": [
    {
     "output_type": "execute_result",
     "data": {
      "text/plain": [
       "55.613291301133756"
      ]
     },
     "metadata": {},
     "execution_count": 15
    }
   ],
   "source": [
    "gamma_23 = get_gamma(data_1.iloc[1]['R_cm'], data_1.iloc[2]['R_cm'], data_1.iloc[4]['R_cm'])\n",
    "gamma_23"
   ]
  },
  {
   "cell_type": "code",
   "execution_count": 16,
   "metadata": {},
   "outputs": [
    {
     "output_type": "execute_result",
     "data": {
      "text/plain": [
       "92.36826150216773"
      ]
     },
     "metadata": {},
     "execution_count": 16
    }
   ],
   "source": [
    "gamma_13 = get_gamma(data_1.iloc[0]['R_cm'], data_1.iloc[2]['R_cm'], data_1.iloc[3]['R_cm'] + data_1.iloc[4]['R_cm'])\n",
    "gamma_13"
   ]
  },
  {
   "source": [
    "# Part 2"
   ],
   "cell_type": "markdown",
   "metadata": {}
  },
  {
   "cell_type": "code",
   "execution_count": 17,
   "metadata": {},
   "outputs": [
    {
     "output_type": "execute_result",
     "data": {
      "text/plain": [
       "   N  R, px\n",
       "0  1  271.9\n",
       "1  2  317.8\n",
       "2  3  447.7\n",
       "3  4  527.5\n",
       "4  5  551.5\n",
       "5  6  625.0\n",
       "6  7  692.5\n",
       "7  8  706.0"
      ],
      "text/html": "<div>\n<style scoped>\n    .dataframe tbody tr th:only-of-type {\n        vertical-align: middle;\n    }\n\n    .dataframe tbody tr th {\n        vertical-align: top;\n    }\n\n    .dataframe thead th {\n        text-align: right;\n    }\n</style>\n<table border=\"1\" class=\"dataframe\">\n  <thead>\n    <tr style=\"text-align: right;\">\n      <th></th>\n      <th>N</th>\n      <th>R, px</th>\n    </tr>\n  </thead>\n  <tbody>\n    <tr>\n      <th>0</th>\n      <td>1</td>\n      <td>271.9</td>\n    </tr>\n    <tr>\n      <th>1</th>\n      <td>2</td>\n      <td>317.8</td>\n    </tr>\n    <tr>\n      <th>2</th>\n      <td>3</td>\n      <td>447.7</td>\n    </tr>\n    <tr>\n      <th>3</th>\n      <td>4</td>\n      <td>527.5</td>\n    </tr>\n    <tr>\n      <th>4</th>\n      <td>5</td>\n      <td>551.5</td>\n    </tr>\n    <tr>\n      <th>5</th>\n      <td>6</td>\n      <td>625.0</td>\n    </tr>\n    <tr>\n      <th>6</th>\n      <td>7</td>\n      <td>692.5</td>\n    </tr>\n    <tr>\n      <th>7</th>\n      <td>8</td>\n      <td>706.0</td>\n    </tr>\n  </tbody>\n</table>\n</div>"
     },
     "metadata": {},
     "execution_count": 17
    }
   ],
   "source": [
    "data = pd.read_csv('lab6.csv', delimiter=';')\n",
    "data"
   ]
  },
  {
   "cell_type": "code",
   "execution_count": 18,
   "metadata": {},
   "outputs": [
    {
     "output_type": "execute_result",
     "data": {
      "text/plain": [
       "   N  R, px          R\n",
       "0  1  271.9   4.925725\n",
       "1  2  317.8   5.757246\n",
       "2  3  447.7   8.110507\n",
       "3  4  527.5   9.556159\n",
       "4  5  551.5   9.990942\n",
       "5  6  625.0  11.322464\n",
       "6  7  692.5  12.545290\n",
       "7  8  706.0  12.789855"
      ],
      "text/html": "<div>\n<style scoped>\n    .dataframe tbody tr th:only-of-type {\n        vertical-align: middle;\n    }\n\n    .dataframe tbody tr th {\n        vertical-align: top;\n    }\n\n    .dataframe thead th {\n        text-align: right;\n    }\n</style>\n<table border=\"1\" class=\"dataframe\">\n  <thead>\n    <tr style=\"text-align: right;\">\n      <th></th>\n      <th>N</th>\n      <th>R, px</th>\n      <th>R</th>\n    </tr>\n  </thead>\n  <tbody>\n    <tr>\n      <th>0</th>\n      <td>1</td>\n      <td>271.9</td>\n      <td>4.925725</td>\n    </tr>\n    <tr>\n      <th>1</th>\n      <td>2</td>\n      <td>317.8</td>\n      <td>5.757246</td>\n    </tr>\n    <tr>\n      <th>2</th>\n      <td>3</td>\n      <td>447.7</td>\n      <td>8.110507</td>\n    </tr>\n    <tr>\n      <th>3</th>\n      <td>4</td>\n      <td>527.5</td>\n      <td>9.556159</td>\n    </tr>\n    <tr>\n      <th>4</th>\n      <td>5</td>\n      <td>551.5</td>\n      <td>9.990942</td>\n    </tr>\n    <tr>\n      <th>5</th>\n      <td>6</td>\n      <td>625.0</td>\n      <td>11.322464</td>\n    </tr>\n    <tr>\n      <th>6</th>\n      <td>7</td>\n      <td>692.5</td>\n      <td>12.545290</td>\n    </tr>\n    <tr>\n      <th>7</th>\n      <td>8</td>\n      <td>706.0</td>\n      <td>12.789855</td>\n    </tr>\n  </tbody>\n</table>\n</div>"
     },
     "metadata": {},
     "execution_count": 18
    }
   ],
   "source": [
    "data['R'] = data['R, px'] / 552 * 10\n",
    "data"
   ]
  },
  {
   "cell_type": "code",
   "execution_count": 19,
   "metadata": {},
   "outputs": [
    {
     "output_type": "execute_result",
     "data": {
      "text/plain": [
       "   N  R, px          R         d\n",
       "0  1  271.9   4.925725  0.203016\n",
       "1  2  317.8   5.757246  0.173694\n",
       "2  3  447.7   8.110507  0.123297\n",
       "3  4  527.5   9.556159  0.104645\n",
       "4  5  551.5   9.990942  0.100091\n",
       "5  6  625.0  11.322464  0.088320\n",
       "6  7  692.5  12.545290  0.079711\n",
       "7  8  706.0  12.789855  0.078187"
      ],
      "text/html": "<div>\n<style scoped>\n    .dataframe tbody tr th:only-of-type {\n        vertical-align: middle;\n    }\n\n    .dataframe tbody tr th {\n        vertical-align: top;\n    }\n\n    .dataframe thead th {\n        text-align: right;\n    }\n</style>\n<table border=\"1\" class=\"dataframe\">\n  <thead>\n    <tr style=\"text-align: right;\">\n      <th></th>\n      <th>N</th>\n      <th>R, px</th>\n      <th>R</th>\n      <th>d</th>\n    </tr>\n  </thead>\n  <tbody>\n    <tr>\n      <th>0</th>\n      <td>1</td>\n      <td>271.9</td>\n      <td>4.925725</td>\n      <td>0.203016</td>\n    </tr>\n    <tr>\n      <th>1</th>\n      <td>2</td>\n      <td>317.8</td>\n      <td>5.757246</td>\n      <td>0.173694</td>\n    </tr>\n    <tr>\n      <th>2</th>\n      <td>3</td>\n      <td>447.7</td>\n      <td>8.110507</td>\n      <td>0.123297</td>\n    </tr>\n    <tr>\n      <th>3</th>\n      <td>4</td>\n      <td>527.5</td>\n      <td>9.556159</td>\n      <td>0.104645</td>\n    </tr>\n    <tr>\n      <th>4</th>\n      <td>5</td>\n      <td>551.5</td>\n      <td>9.990942</td>\n      <td>0.100091</td>\n    </tr>\n    <tr>\n      <th>5</th>\n      <td>6</td>\n      <td>625.0</td>\n      <td>11.322464</td>\n      <td>0.088320</td>\n    </tr>\n    <tr>\n      <th>6</th>\n      <td>7</td>\n      <td>692.5</td>\n      <td>12.545290</td>\n      <td>0.079711</td>\n    </tr>\n    <tr>\n      <th>7</th>\n      <td>8</td>\n      <td>706.0</td>\n      <td>12.789855</td>\n      <td>0.078187</td>\n    </tr>\n  </tbody>\n</table>\n</div>"
     },
     "metadata": {},
     "execution_count": 19
    }
   ],
   "source": [
    "# Nanometers\n",
    "\n",
    "data['d'] = 1 / data['R']\n",
    "data"
   ]
  },
  {
   "cell_type": "code",
   "execution_count": 20,
   "metadata": {},
   "outputs": [
    {
     "output_type": "execute_result",
     "data": {
      "text/plain": [
       "0.07818696883852691"
      ]
     },
     "metadata": {},
     "execution_count": 20
    }
   ],
   "source": [
    "1 / (706 / 552 * 10)"
   ]
  },
  {
   "cell_type": "code",
   "execution_count": 21,
   "metadata": {},
   "outputs": [
    {
     "output_type": "execute_result",
     "data": {
      "text/plain": [
       "11.322463768115941"
      ]
     },
     "metadata": {},
     "execution_count": 21
    }
   ],
   "source": [
    "625 / 552 * 10"
   ]
  },
  {
   "cell_type": "code",
   "execution_count": null,
   "metadata": {},
   "outputs": [],
   "source": []
  }
 ]
}